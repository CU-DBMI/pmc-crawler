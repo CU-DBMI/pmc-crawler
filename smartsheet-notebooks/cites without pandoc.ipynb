{
 "cells": [
  {
   "cell_type": "code",
   "execution_count": 1,
   "id": "af8f40c4",
   "metadata": {},
   "outputs": [
    {
     "data": {
      "application/javascript": [
       "\n",
       "            setTimeout(function() {\n",
       "                var nbb_cell_id = 1;\n",
       "                var nbb_unformatted_code = \"%load_ext nb_black\\n\\nimport manubot\\nfrom citeproc.source.json import CiteProcJSON\\nfrom citeproc import CitationStylesStyle, CitationStylesBibliography\\nfrom citeproc import Citation, CitationItem\\nfrom citeproc import formatter\";\n",
       "                var nbb_formatted_code = \"%load_ext nb_black\\n\\nimport manubot\\nfrom citeproc.source.json import CiteProcJSON\\nfrom citeproc import CitationStylesStyle, CitationStylesBibliography\\nfrom citeproc import Citation, CitationItem\\nfrom citeproc import formatter\";\n",
       "                var nbb_cells = Jupyter.notebook.get_cells();\n",
       "                for (var i = 0; i < nbb_cells.length; ++i) {\n",
       "                    if (nbb_cells[i].input_prompt_number == nbb_cell_id) {\n",
       "                        if (nbb_cells[i].get_text() == nbb_unformatted_code) {\n",
       "                             nbb_cells[i].set_text(nbb_formatted_code);\n",
       "                        }\n",
       "                        break;\n",
       "                    }\n",
       "                }\n",
       "            }, 500);\n",
       "            "
      ],
      "text/plain": [
       "<IPython.core.display.Javascript object>"
      ]
     },
     "metadata": {},
     "output_type": "display_data"
    }
   ],
   "source": [
    "%load_ext nb_black\n",
    "\n",
    "import manubot\n",
    "from citeproc.source.json import CiteProcJSON\n",
    "from citeproc import CitationStylesStyle, CitationStylesBibliography\n",
    "from citeproc import Citation, CitationItem\n",
    "from citeproc import formatter"
   ]
  },
  {
   "cell_type": "code",
   "execution_count": 2,
   "id": "3e6ac530",
   "metadata": {},
   "outputs": [
    {
     "data": {
      "application/javascript": [
       "\n",
       "            setTimeout(function() {\n",
       "                var nbb_cell_id = 2;\n",
       "                var nbb_unformatted_code = \"# Trying to run this without calling subprocess\\nfrom manubot.cite.citekey import citekey_to_csl_item\\nfrom manubot.cite.citations import Citations\\nimport json\";\n",
       "                var nbb_formatted_code = \"# Trying to run this without calling subprocess\\nfrom manubot.cite.citekey import citekey_to_csl_item\\nfrom manubot.cite.citations import Citations\\nimport json\";\n",
       "                var nbb_cells = Jupyter.notebook.get_cells();\n",
       "                for (var i = 0; i < nbb_cells.length; ++i) {\n",
       "                    if (nbb_cells[i].input_prompt_number == nbb_cell_id) {\n",
       "                        if (nbb_cells[i].get_text() == nbb_unformatted_code) {\n",
       "                             nbb_cells[i].set_text(nbb_formatted_code);\n",
       "                        }\n",
       "                        break;\n",
       "                    }\n",
       "                }\n",
       "            }, 500);\n",
       "            "
      ],
      "text/plain": [
       "<IPython.core.display.Javascript object>"
      ]
     },
     "metadata": {},
     "output_type": "display_data"
    }
   ],
   "source": [
    "# Trying to run this without calling subprocess\n",
    "from manubot.cite.citekey import citekey_to_csl_item\n",
    "from manubot.cite.citations import Citations\n",
    "import json"
   ]
  },
  {
   "cell_type": "code",
   "execution_count": 3,
   "id": "d0926c83",
   "metadata": {},
   "outputs": [
    {
     "data": {
      "text/plain": [
       "[{'source': 'PubMed',\n",
       "  'accessed': {'date-parts': [[2021, 12, 22]]},\n",
       "  'id': 'Lovofw6M',\n",
       "  'title': 'Genome-wide association study implicates novel loci and reveals candidate effector genes for longitudinal pediatric bone accrual',\n",
       "  'author': [{'family': 'Cousminer', 'given': 'Diana L'},\n",
       "   {'family': 'Wagley', 'given': 'Yadav'},\n",
       "   {'family': 'Pippin', 'given': 'James A'},\n",
       "   {'family': 'Elhakeem', 'given': 'Ahmed'},\n",
       "   {'family': 'Way', 'given': 'Gregory P'},\n",
       "   {'family': 'Pahl', 'given': 'Matthew C'},\n",
       "   {'family': 'McCormack', 'given': 'Shana E'},\n",
       "   {'family': 'Chesi', 'given': 'Alessandra'},\n",
       "   {'family': 'Mitchell', 'given': 'Jonathan A'},\n",
       "   {'family': 'Kindler', 'given': 'Joseph M'},\n",
       "   {'family': 'Baird', 'given': 'Denis'},\n",
       "   {'family': 'Hartley', 'given': 'April'},\n",
       "   {'family': 'Howe', 'given': 'Laura'},\n",
       "   {'family': 'Kalkwarf', 'given': 'Heidi J'},\n",
       "   {'family': 'Lappe', 'given': 'Joan M'},\n",
       "   {'family': 'Lu', 'given': 'Sumei'},\n",
       "   {'family': 'Leonard', 'given': 'Michelle E'},\n",
       "   {'family': 'Johnson', 'given': 'Matthew E'},\n",
       "   {'family': 'Hakonarson', 'given': 'Hakon'},\n",
       "   {'family': 'Gilsanz', 'given': 'Vicente'},\n",
       "   {'family': 'Shepherd', 'given': 'John A'},\n",
       "   {'family': 'Oberfield', 'given': 'Sharon E'},\n",
       "   {'family': 'Greene', 'given': 'Casey S'},\n",
       "   {'family': 'Kelly', 'given': 'Andrea'},\n",
       "   {'family': 'Lawlor', 'given': 'Deborah A'},\n",
       "   {'family': 'Voight', 'given': 'Benjamin F'},\n",
       "   {'family': 'Wells', 'given': 'Andrew D'},\n",
       "   {'family': 'Zemel', 'given': 'Babette S'},\n",
       "   {'family': 'Hankenson', 'given': 'Kurt D'},\n",
       "   {'family': 'Grant', 'given': 'Struan F A'}],\n",
       "  'container-title-short': 'Genome Biol',\n",
       "  'container-title': 'Genome biology',\n",
       "  'publisher': 'BioMed Central',\n",
       "  'ISSN': '1474-7596',\n",
       "  'issued': {'date-parts': [[2021, 1, 4]]},\n",
       "  'page': '1',\n",
       "  'volume': '22',\n",
       "  'issue': '1',\n",
       "  'PMID': '33397451',\n",
       "  'PMCID': 'PMC7780623',\n",
       "  'DOI': '10.1186/s13059-020-02207-9',\n",
       "  'type': 'article-journal',\n",
       "  'URL': 'https://www.ncbi.nlm.nih.gov/pmc/articles/PMC7780623/',\n",
       "  'note': 'This CSL Item was generated by Manubot v0.5.1 from its persistent identifier (standard_id).\\nstandard_id: pmc:PMC7780623'},\n",
       " {'source': 'PubMed',\n",
       "  'accessed': {'date-parts': [[2021, 12, 22]]},\n",
       "  'id': 'sLN3c3FO',\n",
       "  'title': 'Predicting cell health phenotypes using image-based morphology profiling',\n",
       "  'author': [{'family': 'Way', 'given': 'Gregory P'},\n",
       "   {'family': 'Kost-Alimova', 'given': 'Maria'},\n",
       "   {'family': 'Shibue', 'given': 'Tsukasa'},\n",
       "   {'family': 'Harrington', 'given': 'William F'},\n",
       "   {'family': 'Gill', 'given': 'Stanley'},\n",
       "   {'family': 'Piccioni', 'given': 'Federica'},\n",
       "   {'family': 'Becker', 'given': 'Tim'},\n",
       "   {'family': 'Shafqat-Abbasi', 'given': 'Hamdah'},\n",
       "   {'family': 'Hahn', 'given': 'William C'},\n",
       "   {'family': 'Carpenter', 'given': 'Anne E'},\n",
       "   {'family': 'Vazquez', 'given': 'Francisca'},\n",
       "   {'family': 'Singh', 'given': 'Shantanu'}],\n",
       "  'container-title-short': 'Mol Biol Cell',\n",
       "  'container-title': 'Molecular biology of the cell',\n",
       "  'publisher': 'The American Society for Cell Biology',\n",
       "  'ISSN': '1059-1524',\n",
       "  'issued': {'date-parts': [[2021, 4, 19]]},\n",
       "  'page': '995-1005',\n",
       "  'volume': '32',\n",
       "  'issue': '9',\n",
       "  'PMID': '33534641',\n",
       "  'PMCID': 'PMC8108524',\n",
       "  'DOI': '10.1091/mbc.E20-12-0784',\n",
       "  'type': 'article-journal',\n",
       "  'URL': 'https://www.ncbi.nlm.nih.gov/pmc/articles/PMC8108524/',\n",
       "  'note': 'This CSL Item was generated by Manubot v0.5.1 from its persistent identifier (standard_id).\\nstandard_id: pmc:PMC8108524'},\n",
       " {'source': 'PubMed',\n",
       "  'accessed': {'date-parts': [[2021, 12, 22]]},\n",
       "  'id': 'qrTK8l2i',\n",
       "  'title': 'A field guide to cultivating computational biology',\n",
       "  'author': [{'family': 'Way', 'given': 'Gregory P'},\n",
       "   {'family': 'Greene', 'given': 'Casey S'},\n",
       "   {'family': 'Carninci', 'given': 'Piero'},\n",
       "   {'family': 'Carvalho', 'given': 'Benilton S'},\n",
       "   {'family': 'de Hoon', 'given': 'Michiel'},\n",
       "   {'family': 'Finley', 'given': 'Stacey D'},\n",
       "   {'family': 'Gosline', 'given': 'Sara J C'},\n",
       "   {'family': 'Lȇ Cao', 'given': 'Kim-Anh'},\n",
       "   {'family': 'Lee', 'given': 'Jerry S H'},\n",
       "   {'family': 'Marchionni', 'given': 'Luigi'},\n",
       "   {'family': 'Robine', 'given': 'Nicolas'},\n",
       "   {'family': 'Sindi', 'given': 'Suzanne S'},\n",
       "   {'family': 'Theis', 'given': 'Fabian J'},\n",
       "   {'family': 'Yang', 'given': 'Jean Y H'},\n",
       "   {'family': 'Carpenter', 'given': 'Anne E'},\n",
       "   {'family': 'Fertig', 'given': 'Elana J'}],\n",
       "  'container-title-short': 'PLoS Biol',\n",
       "  'container-title': 'PLoS biology',\n",
       "  'publisher': 'Public Library of Science',\n",
       "  'ISSN': '1544-9173',\n",
       "  'issued': {'date-parts': [[2021, 10, 7]]},\n",
       "  'page': 'e3001419',\n",
       "  'volume': '19',\n",
       "  'issue': '10',\n",
       "  'PMID': '34618807',\n",
       "  'PMCID': 'PMC8525744',\n",
       "  'DOI': '10.1371/journal.pbio.3001419',\n",
       "  'type': 'article-journal',\n",
       "  'URL': 'https://www.ncbi.nlm.nih.gov/pmc/articles/PMC8525744/',\n",
       "  'note': 'This CSL Item was generated by Manubot v0.5.1 from its persistent identifier (standard_id).\\nstandard_id: pmc:PMC8525744'}]"
      ]
     },
     "execution_count": 3,
     "metadata": {},
     "output_type": "execute_result"
    },
    {
     "data": {
      "application/javascript": [
       "\n",
       "            setTimeout(function() {\n",
       "                var nbb_cell_id = 3;\n",
       "                var nbb_unformatted_code = \"list_of_keys = [\\\"pmc:PMC8525744\\\", \\\"pmc:PMC8108524\\\", \\\"pmc:PMC7780623\\\"]\\ncitations = Citations(list_of_keys)\\ncites = citations.get_csl_items()\\n\\ncites\";\n",
       "                var nbb_formatted_code = \"list_of_keys = [\\\"pmc:PMC8525744\\\", \\\"pmc:PMC8108524\\\", \\\"pmc:PMC7780623\\\"]\\ncitations = Citations(list_of_keys)\\ncites = citations.get_csl_items()\\n\\ncites\";\n",
       "                var nbb_cells = Jupyter.notebook.get_cells();\n",
       "                for (var i = 0; i < nbb_cells.length; ++i) {\n",
       "                    if (nbb_cells[i].input_prompt_number == nbb_cell_id) {\n",
       "                        if (nbb_cells[i].get_text() == nbb_unformatted_code) {\n",
       "                             nbb_cells[i].set_text(nbb_formatted_code);\n",
       "                        }\n",
       "                        break;\n",
       "                    }\n",
       "                }\n",
       "            }, 500);\n",
       "            "
      ],
      "text/plain": [
       "<IPython.core.display.Javascript object>"
      ]
     },
     "metadata": {},
     "output_type": "display_data"
    }
   ],
   "source": [
    "list_of_keys = [\"pmc:PMC8525744\", \"pmc:PMC8108524\", \"pmc:PMC7780623\"]\n",
    "citations = Citations(list_of_keys)\n",
    "cites = citations.get_csl_items()\n",
    "\n",
    "cites"
   ]
  },
  {
   "cell_type": "code",
   "execution_count": 4,
   "id": "8a642551",
   "metadata": {},
   "outputs": [
    {
     "data": {
      "text/plain": [
       "{'lovofw6m': Reference(lovofw6m),\n",
       " 'sln3c3fo': Reference(sln3c3fo),\n",
       " 'qrtk8l2i': Reference(qrtk8l2i)}"
      ]
     },
     "execution_count": 4,
     "metadata": {},
     "output_type": "execute_result"
    },
    {
     "data": {
      "application/javascript": [
       "\n",
       "            setTimeout(function() {\n",
       "                var nbb_cell_id = 4;\n",
       "                var nbb_unformatted_code = \"bib_source = CiteProcJSON(cites)\\nbib_source\";\n",
       "                var nbb_formatted_code = \"bib_source = CiteProcJSON(cites)\\nbib_source\";\n",
       "                var nbb_cells = Jupyter.notebook.get_cells();\n",
       "                for (var i = 0; i < nbb_cells.length; ++i) {\n",
       "                    if (nbb_cells[i].input_prompt_number == nbb_cell_id) {\n",
       "                        if (nbb_cells[i].get_text() == nbb_unformatted_code) {\n",
       "                             nbb_cells[i].set_text(nbb_formatted_code);\n",
       "                        }\n",
       "                        break;\n",
       "                    }\n",
       "                }\n",
       "            }, 500);\n",
       "            "
      ],
      "text/plain": [
       "<IPython.core.display.Javascript object>"
      ]
     },
     "metadata": {},
     "output_type": "display_data"
    }
   ],
   "source": [
    "bib_source = CiteProcJSON(cites)\n",
    "bib_source"
   ]
  },
  {
   "cell_type": "code",
   "execution_count": 5,
   "id": "d0af5d9e",
   "metadata": {},
   "outputs": [
    {
     "data": {
      "text/plain": [
       "<citeproc.frontend.CitationStylesStyle at 0x21dff75e730>"
      ]
     },
     "execution_count": 5,
     "metadata": {},
     "output_type": "execute_result"
    },
    {
     "data": {
      "application/javascript": [
       "\n",
       "            setTimeout(function() {\n",
       "                var nbb_cell_id = 5;\n",
       "                var nbb_unformatted_code = \"bib_style = CitationStylesStyle(\\\"manubot-style.csl\\\")\\nbib_style\";\n",
       "                var nbb_formatted_code = \"bib_style = CitationStylesStyle(\\\"manubot-style.csl\\\")\\nbib_style\";\n",
       "                var nbb_cells = Jupyter.notebook.get_cells();\n",
       "                for (var i = 0; i < nbb_cells.length; ++i) {\n",
       "                    if (nbb_cells[i].input_prompt_number == nbb_cell_id) {\n",
       "                        if (nbb_cells[i].get_text() == nbb_unformatted_code) {\n",
       "                             nbb_cells[i].set_text(nbb_formatted_code);\n",
       "                        }\n",
       "                        break;\n",
       "                    }\n",
       "                }\n",
       "            }, 500);\n",
       "            "
      ],
      "text/plain": [
       "<IPython.core.display.Javascript object>"
      ]
     },
     "metadata": {},
     "output_type": "display_data"
    }
   ],
   "source": [
    "bib_style = CitationStylesStyle(\"manubot-style.csl\")\n",
    "bib_style"
   ]
  },
  {
   "cell_type": "code",
   "execution_count": 8,
   "id": "ed933a7d",
   "metadata": {},
   "outputs": [
    {
     "data": {
      "text/plain": [
       "<citeproc.frontend.CitationStylesBibliography at 0x21dfe3ea4f0>"
      ]
     },
     "execution_count": 8,
     "metadata": {},
     "output_type": "execute_result"
    },
    {
     "data": {
      "application/javascript": [
       "\n",
       "            setTimeout(function() {\n",
       "                var nbb_cell_id = 8;\n",
       "                var nbb_unformatted_code = \"# Create the citeproc-py bibliography, passing it the:\\n# * CitationStylesStyle,\\n# * BibliographySource (CiteProcJSON in this case), and\\n# * a formatter (plain, html, or you can write a custom formatter)\\nbibliography = CitationStylesBibliography(bib_style, bib_source, formatter.html)\\nbibliography\";\n",
       "                var nbb_formatted_code = \"# Create the citeproc-py bibliography, passing it the:\\n# * CitationStylesStyle,\\n# * BibliographySource (CiteProcJSON in this case), and\\n# * a formatter (plain, html, or you can write a custom formatter)\\nbibliography = CitationStylesBibliography(bib_style, bib_source, formatter.html)\\nbibliography\";\n",
       "                var nbb_cells = Jupyter.notebook.get_cells();\n",
       "                for (var i = 0; i < nbb_cells.length; ++i) {\n",
       "                    if (nbb_cells[i].input_prompt_number == nbb_cell_id) {\n",
       "                        if (nbb_cells[i].get_text() == nbb_unformatted_code) {\n",
       "                             nbb_cells[i].set_text(nbb_formatted_code);\n",
       "                        }\n",
       "                        break;\n",
       "                    }\n",
       "                }\n",
       "            }, 500);\n",
       "            "
      ],
      "text/plain": [
       "<IPython.core.display.Javascript object>"
      ]
     },
     "metadata": {},
     "output_type": "display_data"
    }
   ],
   "source": [
    "# Create the citeproc-py bibliography, passing it the:\n",
    "# * CitationStylesStyle,\n",
    "# * BibliographySource (CiteProcJSON in this case), and\n",
    "# * a formatter (plain, html, or you can write a custom formatter)\n",
    "bibliography = CitationStylesBibliography(bib_style, bib_source, formatter.html)\n",
    "bibliography"
   ]
  },
  {
   "cell_type": "code",
   "execution_count": 9,
   "id": "cd95aa92",
   "metadata": {},
   "outputs": [
    {
     "name": "stdout",
     "output_type": "stream",
     "text": [
      "Bibliography\n",
      "------------\n",
      "1. <b>Genome-wide association study implicates novel loci and reveals candidate effector genes for longitudinal pediatric bone accrual</b>DL Cousminer, Y Wagley, JA Pippin, A Elhakeem, GP Way, MC Pahl, SE McCormack, A Chesi, JA Mitchell, JM Kindler, … SFA Grant<i>Genome biology</i> (2021-01-04) https://www.ncbi.nlm.nih.gov/pmc/articles/PMC7780623/DOI: 10.1186/s13059-020-02207-9 · PMID: 33397451 · PMCID: PMC7780623\n",
      "2. <b>Predicting cell health phenotypes using image-based morphology profiling</b>GP Way, M Kost-Alimova, T Shibue, WF Harrington, S Gill, F Piccioni, T Becker, H Shafqat-Abbasi, WC Hahn, AE Carpenter, … S Singh<i>Molecular biology of the cell</i> (2021-04-19) https://www.ncbi.nlm.nih.gov/pmc/articles/PMC8108524/DOI: 10.1091/mbc.e20-12-0784 · PMID: 33534641 · PMCID: PMC8108524\n",
      "3. <b>A field guide to cultivating computational biology</b>GP Way, CS Greene, P Carninci, BS Carvalho, M de Hoon, SD Finley, SJC Gosline, K-A Lȇ Cao, JSH Lee, L Marchionni, … EJ Fertig<i>PLoS biology</i> (2021-10-07) https://www.ncbi.nlm.nih.gov/pmc/articles/PMC8525744/DOI: 10.1371/journal.pbio.3001419 · PMID: 34618807 · PMCID: PMC8525744\n"
     ]
    },
    {
     "data": {
      "application/javascript": [
       "\n",
       "            setTimeout(function() {\n",
       "                var nbb_cell_id = 9;\n",
       "                var nbb_unformatted_code = \"# register the citations in the bibliography\\nfor key, entry in bib_source.items():\\n    citation = Citation([CitationItem(key)])\\n    bibliography.register(citation)\\n\\n\\ndef warn(citation_item):\\n    print(\\n        \\\"WARNING: Reference with key '{}' not found in the bibliography.\\\".format(\\n            citation_item.key\\n        )\\n    )\\n\\n\\nprint(\\\"Bibliography\\\")\\nprint(\\\"------------\\\")\\n\\nfor item in bibliography.bibliography():\\n    print(str(item))\";\n",
       "                var nbb_formatted_code = \"# register the citations in the bibliography\\nfor key, entry in bib_source.items():\\n    citation = Citation([CitationItem(key)])\\n    bibliography.register(citation)\\n\\n\\ndef warn(citation_item):\\n    print(\\n        \\\"WARNING: Reference with key '{}' not found in the bibliography.\\\".format(\\n            citation_item.key\\n        )\\n    )\\n\\n\\nprint(\\\"Bibliography\\\")\\nprint(\\\"------------\\\")\\n\\nfor item in bibliography.bibliography():\\n    print(str(item))\";\n",
       "                var nbb_cells = Jupyter.notebook.get_cells();\n",
       "                for (var i = 0; i < nbb_cells.length; ++i) {\n",
       "                    if (nbb_cells[i].input_prompt_number == nbb_cell_id) {\n",
       "                        if (nbb_cells[i].get_text() == nbb_unformatted_code) {\n",
       "                             nbb_cells[i].set_text(nbb_formatted_code);\n",
       "                        }\n",
       "                        break;\n",
       "                    }\n",
       "                }\n",
       "            }, 500);\n",
       "            "
      ],
      "text/plain": [
       "<IPython.core.display.Javascript object>"
      ]
     },
     "metadata": {},
     "output_type": "display_data"
    }
   ],
   "source": [
    "# register the citations in the bibliography\n",
    "for key, entry in bib_source.items():\n",
    "    citation = Citation([CitationItem(key)])\n",
    "    bibliography.register(citation)\n",
    "\n",
    "\n",
    "def warn(citation_item):\n",
    "    print(\n",
    "        \"WARNING: Reference with key '{}' not found in the bibliography.\".format(\n",
    "            citation_item.key\n",
    "        )\n",
    "    )\n",
    "\n",
    "\n",
    "print(\"Bibliography\")\n",
    "print(\"------------\")\n",
    "\n",
    "for item in bibliography.bibliography():\n",
    "    print(str(item))"
   ]
  },
  {
   "cell_type": "code",
   "execution_count": null,
   "id": "cac44b68",
   "metadata": {},
   "outputs": [],
   "source": []
  }
 ],
 "metadata": {
  "kernelspec": {
   "display_name": "Python 3 (ipykernel)",
   "language": "python",
   "name": "python3"
  },
  "language_info": {
   "codemirror_mode": {
    "name": "ipython",
    "version": 3
   },
   "file_extension": ".py",
   "mimetype": "text/x-python",
   "name": "python",
   "nbconvert_exporter": "python",
   "pygments_lexer": "ipython3",
   "version": "3.8.12"
  }
 },
 "nbformat": 4,
 "nbformat_minor": 5
}
