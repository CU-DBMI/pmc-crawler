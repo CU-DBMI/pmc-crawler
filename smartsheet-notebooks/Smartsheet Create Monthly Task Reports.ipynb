{
 "cells": [
  {
   "cell_type": "markdown",
   "id": "a7fe9993",
   "metadata": {},
   "source": [
    "# Create Monthly Task Reports in Smartsheet\n"
   ]
  },
  {
   "cell_type": "code",
   "execution_count": null,
   "id": "7fa13849",
   "metadata": {},
   "outputs": [],
   "source": [
    "%load_ext nb_black"
   ]
  },
  {
   "cell_type": "code",
   "execution_count": null,
   "id": "e2baec28",
   "metadata": {},
   "outputs": [],
   "source": [
    "import os\n",
    "import json\n",
    "import logging\n",
    "from datetime import datetime, timedelta\n",
    "from dateutil import parser\n",
    "from typing import Dict, List\n",
    "\n",
    "import jinja2\n",
    "import pandas as pd\n",
    "import numpy as np\n",
    "import prefect\n",
    "from box import Box\n",
    "\n",
    "import matplotlib.pyplot as plt\n",
    "import matplotlib.image as mpimg\n",
    "import smartsheet\n",
    "import scrapbook as sb\n",
    "import dotenv\n",
    "\n",
    "from prefect import Flow, Parameter, task, unmapped\n",
    "from prefect.executors import LocalDaskExecutor, LocalExecutor\n",
    "\n",
    "logger = logging.getLogger(__name__)\n",
    "logger.setLevel(logging.INFO)"
   ]
  },
  {
   "cell_type": "code",
   "execution_count": null,
   "id": "6b4bb728",
   "metadata": {},
   "outputs": [],
   "source": [
    "unposted_sheet_id = 4818113414883204\n",
    "posted_sheet_id = 3567675495475076"
   ]
  },
  {
   "cell_type": "code",
   "execution_count": null,
   "id": "22761bef",
   "metadata": {
    "tags": [
     "parameters"
    ]
   },
   "outputs": [],
   "source": [
    "environment = \"dev\"\n",
    "\n",
    "# change these or set as papermill parameters to report on year and month\n",
    "year_for_report = 2022\n",
    "month_for_report = 5"
   ]
  },
  {
   "cell_type": "code",
   "execution_count": null,
   "id": "453afb8c",
   "metadata": {},
   "outputs": [],
   "source": [
    "# check the environment vars for secrets\n",
    "\n",
    "env_file = f\".env-{environment}\"\n",
    "logger.info(\"Loading the .env file from %s\", env_file)\n",
    "dotenv.load_dotenv(dotenv.find_dotenv(env_file))\n",
    "\n",
    "assert os.environ.get(\"SMARTSHEET_KEY\"), f\"SMARTSHEET_KEY not found in {env_file}\""
   ]
  },
  {
   "cell_type": "code",
   "execution_count": null,
   "id": "c5524f09",
   "metadata": {},
   "outputs": [],
   "source": [
    "if not os.path.exists(\"_cache\"):\n",
    "    os.mkdir(\"_cache\")"
   ]
  },
  {
   "cell_type": "code",
   "execution_count": null,
   "id": "8d173051",
   "metadata": {},
   "outputs": [],
   "source": [
    "# connect smartsheet client\n",
    "ss_client = smartsheet.Smartsheet(os.environ.get(\"SMARTSHEET_KEY\"))\n",
    "ss_client.errors_as_exceptions(True)"
   ]
  },
  {
   "cell_type": "code",
   "execution_count": null,
   "id": "853119b0",
   "metadata": {},
   "outputs": [],
   "source": [
    "def month_end_date(year, month):\n",
    "    \"\"\"Calculate the month end date given a year and month.\"\"\"\n",
    "    month += 1\n",
    "    if month == 13:\n",
    "        month = 1\n",
    "        year += 1\n",
    "\n",
    "    tempdate = datetime.strptime(f\"{year}-{month}-1\", \"%Y-%m-%d\")\n",
    "    return (tempdate - timedelta(days=1)).strftime(\"%Y-%m-%d\")"
   ]
  },
  {
   "cell_type": "code",
   "execution_count": null,
   "id": "a66c4bc0",
   "metadata": {},
   "outputs": [],
   "source": [
    "prepared_date = datetime.today().strftime(\"%Y-%m-%d\")\n",
    "prepared_date"
   ]
  },
  {
   "cell_type": "code",
   "execution_count": null,
   "id": "90919dc8",
   "metadata": {},
   "outputs": [],
   "source": [
    "month_ending_date = month_end_date(year_for_report, month_for_report)\n",
    "month_ending_date"
   ]
  },
  {
   "cell_type": "code",
   "execution_count": null,
   "id": "52c21fef",
   "metadata": {},
   "outputs": [],
   "source": [
    "posted_time_sheet = ss_client.Sheets.get_sheet(posted_sheet_id)"
   ]
  },
  {
   "cell_type": "code",
   "execution_count": null,
   "id": "77bd1faa",
   "metadata": {},
   "outputs": [],
   "source": [
    "# break down the cell IDs into a quick lookup box\n",
    "posted_cell_ids = [\"Row ID\"]\n",
    "for column in posted_time_sheet.columns:\n",
    "    my_column = column.to_dict()\n",
    "    posted_cell_ids.append(my_column[\"title\"])\n",
    "posted_cell_ids"
   ]
  },
  {
   "cell_type": "code",
   "execution_count": null,
   "id": "b7a07eef",
   "metadata": {},
   "outputs": [],
   "source": [
    "# break down the cells into a list of lists for a later dataframe\n",
    "rows_list = []\n",
    "for row in posted_time_sheet.rows:\n",
    "    row_list = [row.id]\n",
    "    for cell in row.cells:\n",
    "        if cell.display_value:\n",
    "            row_list.append(cell.display_value)\n",
    "        else:\n",
    "            # just in case there's a None in here, use NaN instead\n",
    "            if cell.value:\n",
    "                row_list.append(cell.value)\n",
    "            else:\n",
    "                row_list.append(np.NaN)\n",
    "\n",
    "    rows_list.append(row_list)"
   ]
  },
  {
   "cell_type": "code",
   "execution_count": null,
   "id": "18bec134",
   "metadata": {},
   "outputs": [],
   "source": [
    "# put it together\n",
    "df = pd.DataFrame(rows_list, columns=posted_cell_ids)\n",
    "df[\"Estimated Only\"].fillna(False, inplace=True)\n",
    "df"
   ]
  },
  {
   "cell_type": "code",
   "execution_count": null,
   "id": "fb6a0b68",
   "metadata": {
    "scrolled": true
   },
   "outputs": [],
   "source": [
    "# only need this months info and no estimates\n",
    "monthly_df = df.loc[\n",
    "    ((df[\"Month-end Date\"] == month_ending_date) & (df[\"Estimated Only\"] == False))\n",
    "].copy()\n",
    "monthly_df.drop(columns=[\"Month-end Date\", \"Estimated Only\"], inplace=True)\n",
    "monthly_df[\"Completed Hours\"] = monthly_df[\"Completed Hours\"].astype(float)\n",
    "monthly_df"
   ]
  },
  {
   "cell_type": "code",
   "execution_count": null,
   "id": "6cc726b9",
   "metadata": {},
   "outputs": [],
   "source": [
    "# something in the way this is copied makes agg() not work when summing the completed hours. Weird.\n",
    "projects_df = (\n",
    "    monthly_df[\n",
    "        [\n",
    "            \"MDC Account ID\",\n",
    "            \"Account/Client\",\n",
    "            \"MDC Project ID\",\n",
    "            \"Project Title\",\n",
    "            \"Notes\",\n",
    "            \"Grant Proposal #\",\n",
    "            \"Completed Hours\",\n",
    "        ]\n",
    "    ]\n",
    "    .groupby([\"MDC Account ID\", \"MDC Project ID\"])\n",
    "    .agg(\n",
    "        {\n",
    "            \"Account/Client\": \"first\",\n",
    "            \"Project Title\": \"first\",\n",
    "            \"Notes\": \"first\",\n",
    "            \"Grant Proposal #\": \"first\",\n",
    "            \"Completed Hours\": \"sum\",\n",
    "        },\n",
    "    )\n",
    "    .reset_index()\n",
    ")\n",
    "projects_df"
   ]
  },
  {
   "cell_type": "code",
   "execution_count": null,
   "id": "fd210fe4",
   "metadata": {},
   "outputs": [],
   "source": [
    "# shuck the projects by account\n",
    "accounts_df = (\n",
    "    projects_df[[\"MDC Account ID\", \"Account/Client\", \"Completed Hours\"]]\n",
    "    .groupby([\"MDC Account ID\"])\n",
    "    .agg({\"Account/Client\": \"first\", \"Completed Hours\": \"sum\"})\n",
    "    .reset_index()\n",
    ")\n",
    "accounts_df[\"Month-ending Date\"] = month_ending_date\n",
    "accounts_df[\"Report Prepared Date\"] = prepared_date\n",
    "accounts_df"
   ]
  },
  {
   "cell_type": "code",
   "execution_count": null,
   "id": "2bb31f0a",
   "metadata": {},
   "outputs": [],
   "source": [
    "# done with most of the columns, so dropping to keep things straight\n",
    "monthly_df.drop(\n",
    "    columns=[\n",
    "        \"Account/Client\",\n",
    "        \"Project Title\",\n",
    "        \"Notes\",\n",
    "        \"Grant Proposal #\",\n",
    "    ],\n",
    "    inplace=True,\n",
    ")\n",
    "monthly_df"
   ]
  },
  {
   "cell_type": "code",
   "execution_count": null,
   "id": "06d005a7",
   "metadata": {},
   "outputs": [],
   "source": [
    "accounts_dict = accounts_df.to_dict(\"records\")\n",
    "accounts_dict"
   ]
  },
  {
   "cell_type": "code",
   "execution_count": null,
   "id": "3c4c294f",
   "metadata": {},
   "outputs": [],
   "source": [
    "# start breaking down the projects\n",
    "for account in accounts_dict:\n",
    "    each_df = projects_df.loc[\n",
    "        projects_df[\"MDC Account ID\"] == account[\"MDC Account ID\"]\n",
    "    ]\n",
    "    account[\"Projects\"] = each_df.to_dict(\"records\")"
   ]
  },
  {
   "cell_type": "code",
   "execution_count": null,
   "id": "1f50b751",
   "metadata": {},
   "outputs": [],
   "source": [
    "for account in accounts_dict:\n",
    "    for project in account[\"Projects\"]:\n",
    "        # get the summaries for a single project\n",
    "        players_df = monthly_df.loc[\n",
    "            (\n",
    "                (monthly_df[\"MDC Account ID\"] == project[\"MDC Account ID\"])\n",
    "                & (monthly_df[\"MDC Project ID\"] == project[\"MDC Project ID\"])\n",
    "            )\n",
    "        ]\n",
    "        project[\"Resources\"] = players_df.to_dict(\"records\")"
   ]
  },
  {
   "cell_type": "code",
   "execution_count": null,
   "id": "007e4ff0",
   "metadata": {},
   "outputs": [],
   "source": [
    "# finally get the task attachment for each resource\n",
    "\n",
    "for account in accounts_dict:\n",
    "    print(account[\"Account/Client\"])\n",
    "    for project in account[\"Projects\"]:\n",
    "        print(project[\"Project Title\"])\n",
    "        for resource in project[\"Resources\"]:\n",
    "            row_id = resource[\"Row ID\"]\n",
    "            print(resource[\"Resource\"])\n",
    "            # get the attachements\n",
    "            response = ss_client.Attachments.list_row_attachments(\n",
    "                posted_sheet_id, row_id, include_all=True\n",
    "            )\n",
    "\n",
    "            if response.data and len(response.data) > 0:\n",
    "                for file in response.data:\n",
    "                    file_name = f\"{row_id}.csv\"\n",
    "                    if file.name == file_name:\n",
    "                        # if the file name matches what we know the task list is,\n",
    "                        attachment = ss_client.Attachments.get_attachment(\n",
    "                            posted_sheet_id, file.id\n",
    "                        )\n",
    "                        print(f\"Downloading {file_name}...\")\n",
    "                        # get the attachment and read it into a dataframe\n",
    "                        tasks_df = pd.read_csv(attachment.url)\n",
    "                        tasks_df[\"Notes\"] = tasks_df[\"Notes\"].fillna(\"\")\n",
    "                        tasks_df[\"Pull Request URL\"] = tasks_df[\n",
    "                            \"Pull Request URL\"\n",
    "                        ].fillna(\"\")\n",
    "                        tasks_df[\"Issue URL\"] = tasks_df[\"Issue URL\"].fillna(\"\")\n",
    "                        resource[\"Tasks\"] = tasks_df.to_dict(\"records\")"
   ]
  },
  {
   "cell_type": "code",
   "execution_count": null,
   "id": "788942a8",
   "metadata": {},
   "outputs": [],
   "source": [
    "accounts_dict"
   ]
  },
  {
   "cell_type": "code",
   "execution_count": null,
   "id": "77cb8822",
   "metadata": {},
   "outputs": [],
   "source": [
    "templateLoader = jinja2.FileSystemLoader(searchpath=\"./\")\n",
    "templateEnv = jinja2.Environment(loader=templateLoader)\n",
    "template_file = \"monthly_report_template.md\"\n",
    "template = templateEnv.get_template(template_file)\n",
    "\n",
    "for account in accounts_dict:\n",
    "    output_text = template.render(account=account)\n",
    "\n",
    "    output_file_name = (\n",
    "        f\"{account['MDC Account ID']}-monthly_report-{month_ending_date}.md\"\n",
    "    )\n",
    "    with open(os.path.join(\"_cache\", output_file_name), \"w\") as fh:\n",
    "        fh.write(output_text)"
   ]
  },
  {
   "cell_type": "code",
   "execution_count": null,
   "id": "8c83fc25",
   "metadata": {},
   "outputs": [],
   "source": []
  },
  {
   "cell_type": "code",
   "execution_count": null,
   "id": "76db499c",
   "metadata": {},
   "outputs": [],
   "source": []
  }
 ],
 "metadata": {
  "celltoolbar": "Tags",
  "kernelspec": {
   "display_name": "Python 3 (ipykernel)",
   "language": "python",
   "name": "python3"
  },
  "language_info": {
   "codemirror_mode": {
    "name": "ipython",
    "version": 3
   },
   "file_extension": ".py",
   "mimetype": "text/x-python",
   "name": "python",
   "nbconvert_exporter": "python",
   "pygments_lexer": "ipython3",
   "version": "3.9.12"
  }
 },
 "nbformat": 4,
 "nbformat_minor": 5
}
