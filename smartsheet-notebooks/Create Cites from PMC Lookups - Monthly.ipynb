{
 "cells": [
  {
   "cell_type": "markdown",
   "id": "f2747125",
   "metadata": {},
   "source": [
    "# Published Items for the Center for Health AI - Monthly\n",
    "\n",
    "This takes a list of authors and searches for any items published for the provided month, grabs the proper citation from manubot-cite, and creates a markdown and MS Word document.\n",
    "\n",
    "The smartsheet with the author search terms can be found here: https://app.smartsheet.com/sheets/rCfg3F64V9c4wH6Q9vcwQwqxF8XqhWJchpQfgRR1?view=grid\n",
    "\n",
    "- 2021/12/20 First demo (ST)\n",
    "- 2022/01/18 Fetch pubmed instead of PMC ids (ST)\n",
    "- 2022/01/19 Added caching to help dev go faster (ST)\n",
    "- 2022/06/24 Changes for monthly counts (DB)\n",
    "- 2022/06/12 Pull user list from smartsheet (ST)"
   ]
  },
  {
   "cell_type": "code",
   "execution_count": null,
   "id": "ac4b81cb",
   "metadata": {},
   "outputs": [],
   "source": [
    "#%load_ext nb_black"
   ]
  },
  {
   "cell_type": "code",
   "execution_count": null,
   "id": "e9ac9ebc",
   "metadata": {},
   "outputs": [],
   "source": [
    "import calendar\n",
    "import json\n",
    "import logging\n",
    "import os\n",
    "import copy\n",
    "import subprocess\n",
    "from dateutil import parser\n",
    "from datetime import date, datetime, timedelta\n",
    "from typing import Dict, List, Union\n",
    "import numpy as np\n",
    "import manubot\n",
    "import pandas as pd\n",
    "import requests\n",
    "import smartsheet\n",
    "import scrapbook as sb\n",
    "import dotenv\n",
    "\n",
    "from prefect import task, flow\n",
    "from prefect.client import get_client\n",
    "\n",
    "from manubot.cite.citations import Citations\n",
    "from manubot.cite.citekey import citekey_to_csl_item\n",
    "from citeproc.source.json import CiteProcJSON\n",
    "from citeproc import CitationStylesStyle, CitationStylesBibliography\n",
    "from citeproc import Citation, CitationItem\n",
    "from citeproc import formatter\n",
    "\n",
    "from ratelimit import RateLimitException, limits, sleep_and_retry\n",
    "\n",
    "log = logging.getLogger(__name__)\n",
    "logging.basicConfig(level=logging.INFO)\n",
    "\n",
    "BUILD_FOLDER = \"_build\""
   ]
  },
  {
   "cell_type": "code",
   "execution_count": null,
   "id": "e0d0aa77",
   "metadata": {
    "tags": [
     "parameters"
    ]
   },
   "outputs": [],
   "source": [
    "# Papermill Parameters Cell\n",
    "# These can be used as arguments via papermill\n",
    "\n",
    "environment = \"dev\"\n",
    "\n",
    "# Set any dates (as string in the format yyyy/mm/dd) for searching a month's cites\n",
    "# Leave these empty to generate for the current month.\n",
    "start_date: str = \"\"\n",
    "end_date: str = \"\"\n",
    "\n",
    "# Optional NCBI API key\n",
    "API_KEY = \"\"\n",
    "\n",
    "# NCBI API email\n",
    "API_EMAIL = \"cuhealthai-softwareengineering@cuanschutz.edu\""
   ]
  },
  {
   "cell_type": "code",
   "execution_count": null,
   "id": "712ea81b",
   "metadata": {},
   "outputs": [],
   "source": [
    "def month_end_date(a_date: str) -> (str, str):\n",
    "    \"\"\"\n",
    "    Calculate the month start and end date, given _any_ date.\n",
    "\n",
    "    Returns month_start_date, month_end_date.\n",
    "    \"\"\"\n",
    "    date_format_string = \"%Y/%m/%d\"\n",
    "\n",
    "    this_date = datetime.strptime(a_date, date_format_string)\n",
    "    month = this_date.month\n",
    "    year = this_date.year\n",
    "\n",
    "    start_date = f\"{year}/{month}/1\"\n",
    "\n",
    "    month += 1\n",
    "    if month == 13:\n",
    "        month = 1\n",
    "        year += 1\n",
    "\n",
    "    work_date = datetime.strptime(f\"{year}/{month}/1\", date_format_string)\n",
    "    end_date = (work_date - timedelta(days=1)).strftime(date_format_string)\n",
    "\n",
    "    return start_date, end_date\n",
    "\n",
    "\n",
    "# month_end_date(prepared_date)"
   ]
  },
  {
   "cell_type": "code",
   "execution_count": null,
   "id": "e2220454-3122-4fa8-81f8-28a9df3675b5",
   "metadata": {},
   "outputs": [],
   "source": [
    "prepared_date = datetime.today().strftime(\"%Y/%m/%d\")\n",
    "\n",
    "# smartsheet id\n",
    "authors_sheet_id = 2181104695306116\n",
    "\n",
    "if end_date:\n",
    "    # if the parameter date has been set, use it...\n",
    "    month_starting_date, month_ending_date = month_end_date(end_date)\n",
    "else:\n",
    "    # ... otherwise use today.\n",
    "    month_starting_date, month_ending_date = month_end_date(prepared_date)\n",
    "\n",
    "BUILD_MARKDOWN_FILEROOT = f\"cites_monthly-{month_ending_date.replace('/','-')}\"\n",
    "BUILD_MARKDOWN_FILENAME = f\"{BUILD_MARKDOWN_FILEROOT}.md\"\n",
    "BUILD_PDF_FILENAME = f\"{BUILD_MARKDOWN_FILEROOT}.pdf\"\n",
    "BUILD_DOCX_FILENAME = f\"{BUILD_MARKDOWN_FILEROOT}.docx\"\n",
    "\n",
    "print(month_starting_date, month_ending_date)"
   ]
  },
  {
   "cell_type": "code",
   "execution_count": null,
   "id": "f46b98f9",
   "metadata": {},
   "outputs": [],
   "source": [
    "# override the month start date from parameters if any\n",
    "if start_date:\n",
    "    month_starting_date = start_date\n",
    "\n",
    "month_starting_date"
   ]
  },
  {
   "cell_type": "code",
   "execution_count": null,
   "id": "e18f7e0a",
   "metadata": {},
   "outputs": [],
   "source": [
    "# check the environment vars for secrets\n",
    "\n",
    "env_file = f\".env-{environment}\"\n",
    "log.info(\"Loading the .env file from %s\", env_file)\n",
    "dotenv.load_dotenv(dotenv.find_dotenv(env_file))\n",
    "\n",
    "assert os.environ.get(\"SMARTSHEET_KEY\"), f\"SMARTSHEET_KEY not found in {env_file}\"\n",
    "\n",
    "if os.environ.get(\"API_KEY\"):\n",
    "    # if the ncbi key has been set in environment\n",
    "    API_KEY = os.environ.get(\"API_KEY\")"
   ]
  },
  {
   "cell_type": "code",
   "execution_count": null,
   "id": "19d53b1a",
   "metadata": {},
   "outputs": [],
   "source": [
    "# connect smartsheet client\n",
    "ss_client = smartsheet.Smartsheet(os.environ.get(\"SMARTSHEET_KEY\"))\n",
    "ss_client.errors_as_exceptions(True)"
   ]
  },
  {
   "cell_type": "code",
   "execution_count": null,
   "id": "9dbc56cb",
   "metadata": {},
   "outputs": [],
   "source": [
    "# if we don't have an API_KEY from parameters\n",
    "# and an environment variable is set for this\n",
    "# set the API_KEY to the environment var\n",
    "if not API_KEY and os.environ.get(\"NCBI_API_KEY\", \"\"):\n",
    "    API_KEY = os.environ[\"NCBI_API_KEY\"]\n",
    "\n",
    "# set rate limit based on whether there's an API_KEY\n",
    "# based on NCBI requirements\n",
    "if API_KEY:\n",
    "    NCBI_RATE_LIMIT = 10\n",
    "else:\n",
    "    NCBI_RATE_LIMIT = 3\n",
    "\n",
    "NCBI_RATE_LIMIT"
   ]
  },
  {
   "cell_type": "code",
   "execution_count": null,
   "id": "0977e046",
   "metadata": {},
   "outputs": [],
   "source": [
    "# will write out to a folder\n",
    "if not os.path.exists(BUILD_FOLDER):\n",
    "    os.makedirs(BUILD_FOLDER)"
   ]
  },
  {
   "cell_type": "markdown",
   "id": "c8bbce8c",
   "metadata": {},
   "source": [
    "## Fetch authors list"
   ]
  },
  {
   "cell_type": "code",
   "execution_count": null,
   "id": "e21ca277",
   "metadata": {},
   "outputs": [],
   "source": [
    "authors_sheet = ss_client.Reports.get_report(authors_sheet_id)"
   ]
  },
  {
   "cell_type": "code",
   "execution_count": null,
   "id": "e68f7a8b",
   "metadata": {},
   "outputs": [],
   "source": [
    "# break down the cell IDs into a quick lookup box\n",
    "cell_ids = [\"Row ID\"]\n",
    "for column in authors_sheet.columns:\n",
    "    my_column = column.to_dict()\n",
    "    cell_ids.append(my_column[\"title\"])\n",
    "\n",
    "cell_ids"
   ]
  },
  {
   "cell_type": "code",
   "execution_count": null,
   "id": "cf02cf6d",
   "metadata": {},
   "outputs": [],
   "source": [
    "# break down the cells into a list of lists for a later dataframe\n",
    "rows_list = []\n",
    "for row in authors_sheet.rows:\n",
    "    row_list = [row.id]\n",
    "    for cell in row.cells:\n",
    "        if cell.display_value:\n",
    "            row_list.append(cell.display_value)\n",
    "        else:\n",
    "            # just in case there's a None in here, use NaN instead\n",
    "            if cell.value:\n",
    "                row_list.append(cell.value)\n",
    "            else:\n",
    "                row_list.append(np.NaN)\n",
    "\n",
    "    rows_list.append(row_list)"
   ]
  },
  {
   "cell_type": "code",
   "execution_count": null,
   "id": "dd648053",
   "metadata": {
    "scrolled": true
   },
   "outputs": [],
   "source": [
    "# put it together as a dataframe\n",
    "authors_df = pd.DataFrame(rows_list, columns=cell_ids)\n",
    "# only want primary\n",
    "authors_df = authors_df.loc[authors_df[\"Primary Department\"] == \"DBMI\"]\n",
    "authors_df.set_index(\"Official Name\", inplace=True)\n",
    "authors_df[\"NCBI search term\"] = authors_df[\"NCBI search term\"].map(\n",
    "    lambda x: f'({x} AND (\"University of Colorado\")'\n",
    ")\n",
    "authors_df[\"ORCID number\"].fillna(\"\", inplace=True)\n",
    "authors_df"
   ]
  },
  {
   "cell_type": "code",
   "execution_count": null,
   "id": "7f4cab7f",
   "metadata": {},
   "outputs": [],
   "source": [
    "# helpful for debugging and development only\n",
    "# authors_df = authors_df.sample(frac=0.10)\n",
    "# authors_df"
   ]
  },
  {
   "cell_type": "code",
   "execution_count": null,
   "id": "b531499e",
   "metadata": {},
   "outputs": [],
   "source": [
    "@sleep_and_retry\n",
    "@limits(calls=NCBI_RATE_LIMIT, period=60)\n",
    "def search_ncbi(\n",
    "    term: str,\n",
    "    mindate: str,\n",
    "    maxdate: str,\n",
    "    api_key: str = None,\n",
    "    email: str = API_EMAIL,\n",
    ") -> List[str]:\n",
    "    \"\"\"\n",
    "    Look up IDs given a search term,\n",
    "    a beginning year, and an optional API key.\n",
    "\n",
    "    NCBI asks that we use an API key,\n",
    "    which increases API calls to 10/minute, instead of 3/minute.\n",
    "\n",
    "    Returns status code and a list of IDs\n",
    "    \"\"\"\n",
    "\n",
    "    log.info(f\"Looking up NCBI records for {term}, between {mindate} and {maxdate}.\")\n",
    "    ids = []\n",
    "\n",
    "    params = {\n",
    "        \"term\": term,\n",
    "        \"format\": \"pmid\",\n",
    "        \"tool\": \"CUAnschutz-Center_for_Health_AI-DEV\",\n",
    "        \"email\": email,\n",
    "        \"format\": \"json\",\n",
    "        \"retmax\": 100,\n",
    "        \"retstart\": 0,\n",
    "        # note: date format is in yyyy/mm/dd\n",
    "        \"mindate\": mindate,\n",
    "        \"maxdate\": maxdate,\n",
    "    }\n",
    "\n",
    "    if api_key:\n",
    "        params[\"api_key\"] = api_key\n",
    "\n",
    "    # page through the results until there are no more ids\n",
    "    while True:\n",
    "        r = requests.get(\n",
    "            \"https://eutils.ncbi.nlm.nih.gov/entrez/eutils/esearch.fcgi\", params\n",
    "        )\n",
    "        if r.status_code == 200:\n",
    "            result = r.json()[\"esearchresult\"]\n",
    "        else:\n",
    "            logging.error(f\"NCBI returned a status code of {r.status_code}.\")\n",
    "            break\n",
    "\n",
    "        if len(result[\"idlist\"]) == 0:\n",
    "            # no more IDs\n",
    "            break\n",
    "        else:\n",
    "            # append the IDs to the results...\n",
    "            ids = ids + result[\"idlist\"]\n",
    "            # and move the start chunk up by the size of retmax\n",
    "            params[\"retstart\"] += params[\"retmax\"]\n",
    "\n",
    "    return r.status_code, ids"
   ]
  },
  {
   "cell_type": "code",
   "execution_count": null,
   "id": "4fcc3a02",
   "metadata": {
    "scrolled": true
   },
   "outputs": [],
   "source": [
    "# I would like to do this in parallel, but the deal with NCBI is we agree not to do that\n",
    "id_dict = {}\n",
    "\n",
    "log.info(\n",
    "    f\"Looking up pubmed IDs from NCBI between {month_starting_date} and {month_ending_date}\"\n",
    ")\n",
    "\n",
    "for author, row in authors_df.iterrows():\n",
    "\n",
    "    logging.info(f\"Looking up `{author}` using {row['NCBI search term']}\")\n",
    "    status_code, ids = search_ncbi(\n",
    "        term=row[\"NCBI search term\"],\n",
    "        mindate=month_starting_date,\n",
    "        maxdate=month_ending_date,\n",
    "        api_key=API_KEY,\n",
    "    )\n",
    "    log.debug(\"pubmed ids fetched from NCBI: %s\", ids)\n",
    "\n",
    "    for id in ids:\n",
    "        if not id_dict.get(id):\n",
    "            # create an empty nested dict\n",
    "            id_dict[id] = {\"authors\": []}\n",
    "        id_dict[id][\"authors\"].append(author)"
   ]
  },
  {
   "cell_type": "markdown",
   "id": "97859ccb",
   "metadata": {},
   "source": [
    "How many items found?"
   ]
  },
  {
   "cell_type": "code",
   "execution_count": null,
   "id": "88fbe381",
   "metadata": {},
   "outputs": [],
   "source": [
    "len(id_dict)"
   ]
  },
  {
   "cell_type": "code",
   "execution_count": null,
   "id": "9dd20020",
   "metadata": {},
   "outputs": [],
   "source": [
    "# create a list of pubmed ids and fetch the citation json...\n",
    "# takes a good bit of time with a large list.\n",
    "# Manubot, which uses NCBI, I presume is taking time\n",
    "ids = [f\"pubmed:{id}\" for id in id_dict.keys()]\n",
    "\n",
    "citations = Citations(ids)\n",
    "cites = citations.get_csl_items()\n",
    "cites"
   ]
  },
  {
   "cell_type": "code",
   "execution_count": null,
   "id": "6822b2aa",
   "metadata": {},
   "outputs": [],
   "source": [
    "# sometimes, in what I can only figure are sunspots or something,\n",
    "# an author dictionary in 'authors' will be empty... and this\n",
    "# causes big problems down the line. So I remove the empties.\n",
    "for cite in cites:\n",
    "    while {} in cite[\"author\"]:\n",
    "        cite[\"author\"].remove({})"
   ]
  },
  {
   "cell_type": "code",
   "execution_count": null,
   "id": "d11fd8bb",
   "metadata": {},
   "outputs": [],
   "source": [
    "# I'm going to want to sort these later.\n",
    "for rec in cites:\n",
    "    key = rec[\"PMID\"]\n",
    "\n",
    "    id_dict[key][\"csljson\"] = rec\n",
    "    id_dict[key][\"title\"] = rec[\"title\"].strip()\n",
    "\n",
    "    # all this for the date!\n",
    "    if rec.get(\"issued\"):\n",
    "        issued_date_parts = rec[\"issued\"][\"date-parts\"][0]\n",
    "        date_str = str(issued_date_parts[0])\n",
    "        try:\n",
    "            date_str += f\"/{issued_date_parts[1]}\"\n",
    "            try:\n",
    "                date_str += f\"/{issued_date_parts[2]}\"\n",
    "            except:\n",
    "                pass\n",
    "        except:\n",
    "            pass\n",
    "\n",
    "        id_dict[key][\"issued_date\"] = date_str"
   ]
  },
  {
   "cell_type": "code",
   "execution_count": null,
   "id": "1a56b180",
   "metadata": {
    "scrolled": true
   },
   "outputs": [],
   "source": [
    "# sort the dictionary\n",
    "df = pd.DataFrame.from_dict(id_dict, orient=\"index\")\n",
    "df.sort_values(by=\"title\", inplace=True)\n",
    "df"
   ]
  },
  {
   "cell_type": "code",
   "execution_count": null,
   "id": "b971e61b",
   "metadata": {},
   "outputs": [],
   "source": [
    "# get the counts by author\n",
    "author_counts_df = (\n",
    "    df.explode(\"authors\")\n",
    "    .groupby(\"authors\")[\"title\"]\n",
    "    .count()\n",
    "    .to_frame()\n",
    "    .rename(columns={\"title\": \"title count\"})\n",
    ")\n",
    "\n",
    "# merge the counts into our main author df\n",
    "authors_df = authors_df.merge(author_counts_df, left_index=True, right_index=True)"
   ]
  },
  {
   "cell_type": "code",
   "execution_count": null,
   "id": "e5159fa3",
   "metadata": {},
   "outputs": [],
   "source": [
    "# load the citation style\n",
    "bib_style = CitationStylesStyle(\"manubot-style-title-case.csl\")\n",
    "bib_style"
   ]
  },
  {
   "cell_type": "code",
   "execution_count": null,
   "id": "8ba892a4",
   "metadata": {},
   "outputs": [],
   "source": [
    "def create_bibliography(cites: List):\n",
    "    \"\"\"\n",
    "    Create the citeproc-py bibliography, passing it the:\n",
    "      * CitationStylesStyle,\n",
    "      * BibliographySource (CiteProcJSON in this case), and\n",
    "      * a formatter (plain, html, or you can write a custom formatter)\n",
    "\n",
    "    Created as function to hand in cites one at a time\n",
    "    \"\"\"\n",
    "    # process the citations into a bib source\n",
    "    bib_source = CiteProcJSON(cites)\n",
    "\n",
    "    bibliography = CitationStylesBibliography(bib_style, bib_source, formatter.html)\n",
    "\n",
    "    # register the citations in the bibliography\n",
    "    for key, entry in bib_source.items():\n",
    "        citation = Citation([CitationItem(key)])\n",
    "        bibliography.register(citation)\n",
    "\n",
    "    return bibliography.bibliography()"
   ]
  },
  {
   "cell_type": "code",
   "execution_count": null,
   "id": "4582a7a3",
   "metadata": {},
   "outputs": [],
   "source": [
    "# run through the cites one at a time\n",
    "cite_markdown = []\n",
    "for cite in cites:\n",
    "    new_dict = {\"PMID\": cite[\"PMID\"]}\n",
    "\n",
    "    # I'm only handing them in one at a time\n",
    "    result = create_bibliography([cite])\n",
    "    new_dict[\"markdown\"] = str(result[0])\n",
    "\n",
    "    cite_markdown.append(new_dict)\n",
    "\n",
    "# create a df for merging\n",
    "cite_markdown_df = pd.DataFrame(cite_markdown).set_index(\"PMID\")\n",
    "cite_markdown_df"
   ]
  },
  {
   "cell_type": "code",
   "execution_count": null,
   "id": "8ae22fe0",
   "metadata": {},
   "outputs": [],
   "source": [
    "# manubot gives out HTML, and <i> is interpreted correctly,\n",
    "# but maybe because <b> isn't <strong> or something,\n",
    "# the HTML doesn't quite all work. Thus replacing...\n",
    "# somewhat roughly\n",
    "\n",
    "\n",
    "def markdown_me(row):\n",
    "    temp_line = row[\"markdown\"]\n",
    "    temp_line = temp_line.replace(\"<b>\", \" **\").replace(\"</b>\", \"** \")\n",
    "    temp_line = temp_line.replace(\"<i>\", \"_\").replace(\"</i>\", \"_\")\n",
    "    row[\"markdown\"] = temp_line\n",
    "    return row\n",
    "\n",
    "\n",
    "cite_markdown_df = cite_markdown_df.apply(markdown_me, axis=1)"
   ]
  },
  {
   "cell_type": "code",
   "execution_count": null,
   "id": "77a45e10",
   "metadata": {},
   "outputs": [],
   "source": [
    "# and finally a reporting DF\n",
    "report_df = df.merge(cite_markdown_df, left_index=True, right_index=True)\n",
    "report_df"
   ]
  },
  {
   "cell_type": "markdown",
   "id": "7bded28f",
   "metadata": {},
   "source": [
    "## Build up the markdown"
   ]
  },
  {
   "cell_type": "code",
   "execution_count": null,
   "id": "8e75c5a4",
   "metadata": {},
   "outputs": [],
   "source": [
    "log.info(f\"Writing file {BUILD_MARKDOWN_FILENAME} to {BUILD_FOLDER}\")\n",
    "with open(\n",
    "    os.path.join(BUILD_FOLDER, BUILD_MARKDOWN_FILENAME), \"w\", encoding=\"utf-8\"\n",
    ") as f:\n",
    "    f.write(f\"# Department of Biomedical Informatics (DBMI)\\n\\n\")\n",
    "\n",
    "    f.write(f\"## Published Items Bibliography\\n\\n\")\n",
    "    f.write(f\"For the period {month_starting_date} to {month_ending_date}\\n\\n\")\n",
    "\n",
    "    # In the custom CSL, I don't include the citation number.\n",
    "    # This is just a numbered list now.\n",
    "    for index, row in report_df.iterrows():\n",
    "        f.write(f\"{row['markdown']}\\n\\n\")\n",
    "        for author in row[\"authors\"]:\n",
    "            f.write(f\" &mdash; <cite>{author}</cite>\\n\\n\")\n",
    "        f.write(\"***\\n\")\n",
    "\n",
    "    f.write(f\"## Authors and Search Terms\\n\\n\")\n",
    "    f.write(f\"Please contact the DBMI A&O staff for changes to name, ORCID, or search terms.\\n\\n\")\n",
    "\n",
    "    f.write(f\"|Author|NCBI Search Term|ORCiD|Title Count\\n\")\n",
    "    f.write(f\"|---|---|---|---\\n\")\n",
    "    for index, row in authors_df.iterrows():\n",
    "        f.write(\n",
    "            f\"|{index}|{row['NCBI search term']}|{row['ORCID number']}|{row['title count']}\\n\"\n",
    "        )\n",
    "\n",
    "    f.write(\"\\n\")\n",
    "    f.write(f\"Generated {prepared_date}\\n\")"
   ]
  },
  {
   "cell_type": "markdown",
   "id": "62273b07",
   "metadata": {},
   "source": [
    "## Convert markdown to pdf and docx\n",
    "\n",
    "**experimental!**\n",
    "\n",
    "A very trick little docker container for wrapping pandoc. Very helpful. https://github.com/davidlougheed/reformed\n",
    "\n",
    "To run a local version:\n",
    "\n",
    "    docker run -d --name reformed -p 8088:8000 ghcr.io/davidlougheed/reformed:sha-1b8f46b"
   ]
  },
  {
   "cell_type": "code",
   "execution_count": null,
   "id": "004c81a5",
   "metadata": {},
   "outputs": [],
   "source": [
    "url = \"http://localhost:8088/api/v1/from/markdown/to/pdf\"\n",
    "\n",
    "with open(os.path.join(BUILD_FOLDER, BUILD_MARKDOWN_FILENAME), \"rb\") as f:\n",
    "    r = requests.post(url, files={\"document\": f.read()})\n",
    "\n",
    "if r.status_code == 200:\n",
    "    with open(os.path.join(BUILD_FOLDER, BUILD_PDF_FILENAME), \"wb\") as f:\n",
    "        f.write(r.content)\n",
    "else:\n",
    "    print(r.status_code)"
   ]
  },
  {
   "cell_type": "code",
   "execution_count": null,
   "id": "29d9782e",
   "metadata": {},
   "outputs": [],
   "source": [
    "url = \"http://localhost:8088/api/v1/from/markdown/to/docx\"\n",
    "\n",
    "with open(os.path.join(BUILD_FOLDER, BUILD_MARKDOWN_FILENAME), \"rb\") as f:\n",
    "    r = requests.post(url, files={\"document\": f.read()})\n",
    "\n",
    "if r.status_code == 200:\n",
    "    with open(os.path.join(BUILD_FOLDER, BUILD_DOCX_FILENAME), \"wb\") as f:\n",
    "        f.write(r.content)\n",
    "else:\n",
    "    print(r.status_code)"
   ]
  },
  {
   "cell_type": "code",
   "execution_count": null,
   "id": "a11bab64",
   "metadata": {},
   "outputs": [],
   "source": []
  }
 ],
 "metadata": {
  "celltoolbar": "Tags",
  "kernelspec": {
   "display_name": "Python 3 (ipykernel)",
   "language": "python",
   "name": "python3"
  },
  "language_info": {
   "codemirror_mode": {
    "name": "ipython",
    "version": 3
   },
   "file_extension": ".py",
   "mimetype": "text/x-python",
   "name": "python",
   "nbconvert_exporter": "python",
   "pygments_lexer": "ipython3",
   "version": "3.10.4"
  }
 },
 "nbformat": 4,
 "nbformat_minor": 5
}
