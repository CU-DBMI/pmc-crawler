{
 "cells": [
  {
   "cell_type": "markdown",
   "id": "a7fe9993",
   "metadata": {},
   "source": [
    "# Create Monthly Task Reports in Smartsheet\n"
   ]
  },
  {
   "cell_type": "code",
   "execution_count": null,
   "id": "7fa13849",
   "metadata": {},
   "outputs": [],
   "source": [
    "#%load_ext nb_black"
   ]
  },
  {
   "cell_type": "code",
   "execution_count": null,
   "id": "e2baec28",
   "metadata": {},
   "outputs": [],
   "source": [
    "import os\n",
    "import json\n",
    "import logging\n",
    "import jinja2\n",
    "import pandas as pd\n",
    "import numpy as np\n",
    "import matplotlib.pyplot as plt\n",
    "import matplotlib.image as mpimg\n",
    "import smartsheet\n",
    "import scrapbook as sb\n",
    "import dotenv\n",
    "\n",
    "from datetime import datetime, timedelta\n",
    "from dateutil import parser\n",
    "from typing import Dict, List\n",
    "from pprint import pprint\n",
    "from pathlib import Path\n",
    "from slugify import slugify\n",
    "from jsonschema import validate, ValidationError, RefResolver\n",
    "from jsonschema.exceptions import RefResolutionError\n",
    "from docxtpl import (\n",
    "    DocxTemplate,\n",
    "    InlineImage,\n",
    ")  # For this you'll need to `pip install docxtpl`\n",
    "# This comes in with the templating library\n",
    "from docx.shared import Inches\n",
    "from prefect import task, flow\n",
    "\n",
    "logger = logging.getLogger(__name__)\n",
    "logger.setLevel(logging.INFO)"
   ]
  },
  {
   "cell_type": "code",
   "execution_count": null,
   "id": "6b4bb728",
   "metadata": {},
   "outputs": [],
   "source": [
    "unposted_sheet_id = 4818113414883204\n",
    "posted_sheet_id = 3567675495475076\n",
    "client_reports_id = 8413910635177860"
   ]
  },
  {
   "cell_type": "code",
   "execution_count": null,
   "id": "22761bef",
   "metadata": {
    "tags": [
     "parameters"
    ]
   },
   "outputs": [],
   "source": [
    "environment = \"dev\"\n",
    "\n",
    "# change these or set as papermill parameters to report on year and month\n",
    "year_for_report = 2022\n",
    "month_for_report = 7\n",
    "\n",
    "# it is possible to run this without posting to smartsheet... useful for testing\n",
    "post_records = True"
   ]
  },
  {
   "cell_type": "code",
   "execution_count": null,
   "id": "453afb8c",
   "metadata": {},
   "outputs": [],
   "source": [
    "# check the environment vars for secrets\n",
    "\n",
    "env_file = f\".env-{environment}\"\n",
    "logger.info(\"Loading the .env file from %s\", env_file)\n",
    "dotenv.load_dotenv(dotenv.find_dotenv(env_file))\n",
    "\n",
    "assert os.environ.get(\"SMARTSHEET_KEY\"), f\"SMARTSHEET_KEY not found in {env_file}\""
   ]
  },
  {
   "cell_type": "code",
   "execution_count": null,
   "id": "c5524f09",
   "metadata": {},
   "outputs": [],
   "source": [
    "if not os.path.exists(\"_cache\"):\n",
    "    os.mkdir(\"_cache\")"
   ]
  },
  {
   "cell_type": "code",
   "execution_count": null,
   "id": "8d173051",
   "metadata": {},
   "outputs": [],
   "source": [
    "# connect smartsheet client\n",
    "ss_client = smartsheet.Smartsheet(os.environ.get(\"SMARTSHEET_KEY\"))\n",
    "ss_client.errors_as_exceptions(True)"
   ]
  },
  {
   "cell_type": "code",
   "execution_count": null,
   "id": "8cc793cc",
   "metadata": {},
   "outputs": [],
   "source": [
    "def validate_json(schema, json_data):\n",
    "\n",
    "    # mostly from https://stackoverflow.com/questions/25145160/json-schema-ref-does-not-work-for-relative-path\n",
    "    schemas = (json.load(open(source)) for source in Path(\"schema\").iterdir())\n",
    "    schema_store = {schema[\"$id\"]: schema for schema in schemas}\n",
    "\n",
    "    resolver = RefResolver.from_schema(schema, store=schema_store)\n",
    "\n",
    "    try:\n",
    "        result = validate(instance=json_data, schema=schema, resolver=resolver)\n",
    "        return True, None\n",
    "    except ValidationError as err:\n",
    "        return False, err.message"
   ]
  },
  {
   "cell_type": "code",
   "execution_count": null,
   "id": "853119b0",
   "metadata": {},
   "outputs": [],
   "source": [
    "def month_end_date(year, month):\n",
    "    \"\"\"Calculate the month end date given a year and month.\"\"\"\n",
    "    month += 1\n",
    "    if month == 13:\n",
    "        month = 1\n",
    "        year += 1\n",
    "\n",
    "    tempdate = datetime.strptime(f\"{year}-{month}-1\", \"%Y-%m-%d\")\n",
    "    return (tempdate - timedelta(days=1)).strftime(\"%Y-%m-%d\")"
   ]
  },
  {
   "cell_type": "code",
   "execution_count": null,
   "id": "a66c4bc0",
   "metadata": {},
   "outputs": [],
   "source": [
    "prepared_date = datetime.today().strftime(\"%Y-%m-%d\")\n",
    "prepared_date"
   ]
  },
  {
   "cell_type": "code",
   "execution_count": null,
   "id": "90919dc8",
   "metadata": {},
   "outputs": [],
   "source": [
    "month_ending_date = month_end_date(year_for_report, month_for_report)\n",
    "month_ending_date"
   ]
  },
  {
   "cell_type": "code",
   "execution_count": null,
   "id": "52c21fef",
   "metadata": {},
   "outputs": [],
   "source": [
    "posted_time_sheet = ss_client.Sheets.get_sheet(posted_sheet_id)"
   ]
  },
  {
   "cell_type": "code",
   "execution_count": null,
   "id": "77bd1faa",
   "metadata": {},
   "outputs": [],
   "source": [
    "# break down the cell IDs into a quick lookup box\n",
    "posted_cell_ids = [\"Row ID\"]\n",
    "for column in posted_time_sheet.columns:\n",
    "    my_column = column.to_dict()\n",
    "    posted_cell_ids.append(my_column[\"title\"])\n",
    "\n",
    "posted_cell_ids"
   ]
  },
  {
   "cell_type": "code",
   "execution_count": null,
   "id": "b7a07eef",
   "metadata": {},
   "outputs": [],
   "source": [
    "# break down the cells into a list of lists for a later dataframe\n",
    "rows_list = []\n",
    "for row in posted_time_sheet.rows:\n",
    "    row_list = [row.id]\n",
    "    for cell in row.cells:\n",
    "        if cell.display_value:\n",
    "            row_list.append(cell.display_value)\n",
    "        else:\n",
    "            # just in case there's a None in here, use NaN instead\n",
    "            if cell.value:\n",
    "                row_list.append(cell.value)\n",
    "            else:\n",
    "                row_list.append(np.NaN)\n",
    "\n",
    "    rows_list.append(row_list)"
   ]
  },
  {
   "cell_type": "code",
   "execution_count": null,
   "id": "18bec134",
   "metadata": {},
   "outputs": [],
   "source": [
    "# put it together as a dataframe\n",
    "df = pd.DataFrame(rows_list, columns=posted_cell_ids)\n",
    "df[\"Estimated Only\"].fillna(False, inplace=True)\n",
    "df"
   ]
  },
  {
   "cell_type": "code",
   "execution_count": null,
   "id": "fb6a0b68",
   "metadata": {
    "scrolled": true
   },
   "outputs": [],
   "source": [
    "# only need this months info and no estimates\n",
    "monthly_df = (\n",
    "    df.loc[\n",
    "        ((df[\"Month-end Date\"] == month_ending_date) & (df[\"Estimated Only\"] == False))\n",
    "    ]\n",
    "    .copy()\n",
    "    .fillna(\"\")\n",
    ")\n",
    "monthly_df[\"Completed Hours\"] = monthly_df[\"Completed Hours\"].astype(float)\n",
    "monthly_df.drop(columns=[\"Month-end Date\", \"Estimated Only\"], inplace=True)\n",
    "monthly_df"
   ]
  },
  {
   "cell_type": "markdown",
   "id": "8d9ca87a",
   "metadata": {},
   "source": [
    "## With the posted hours dataframe, start breaking it down into a dict"
   ]
  },
  {
   "cell_type": "code",
   "execution_count": null,
   "id": "fd210fe4",
   "metadata": {},
   "outputs": [],
   "source": [
    "accounts_df = (\n",
    "    monthly_df.groupby([\"MDC Account ID\"])\n",
    "    .agg({\"Account/Client\": \"first\", \"Completed Hours\": \"sum\"})\n",
    "    .reset_index()\n",
    ")\n",
    "accounts_df"
   ]
  },
  {
   "cell_type": "code",
   "execution_count": null,
   "id": "6cc726b9",
   "metadata": {},
   "outputs": [],
   "source": [
    "projects_df = (\n",
    "    monthly_df.groupby([\"MDC Account ID\", \"MDC Project ID\"])\n",
    "    .agg(\n",
    "        {\n",
    "            \"Project Title\": \"first\",\n",
    "            \"Notes\": \"first\",\n",
    "            \"Grant Proposal #\": \"first\",\n",
    "            \"Completed Hours\": \"sum\",\n",
    "        },\n",
    "    )\n",
    "    .reset_index()\n",
    ")\n",
    "projects_df"
   ]
  },
  {
   "cell_type": "code",
   "execution_count": null,
   "id": "7cf4935e",
   "metadata": {},
   "outputs": [],
   "source": [
    "resources_df = (\n",
    "    monthly_df.groupby([\"MDC Account ID\", \"MDC Project ID\", \"MDC Resource ID\"])\n",
    "    .agg(\n",
    "        {\"Resource\": \"first\", \"Completed Hours\": \"sum\", \"Row ID\": \"first\"},\n",
    "    )\n",
    "    .reset_index()\n",
    ")\n",
    "\n",
    "resources_df"
   ]
  },
  {
   "cell_type": "code",
   "execution_count": null,
   "id": "64c369c0",
   "metadata": {},
   "outputs": [],
   "source": [
    "def get_task_file(project_id, resource_id, row_id):\n",
    "    \"\"\"\n",
    "    Fetch the attachment in the form project_id-resource_id-month_ending_date.json\n",
    "    from the given row_id.\n",
    "\n",
    "    Returns a sorted by date and validated JSON/dict and completed hours per resource\n",
    "    \"\"\"\n",
    "\n",
    "    with open(os.path.join(\"schema\", \"effort_hours-resource.json\"), \"r\") as file:\n",
    "        schema = json.load(file)\n",
    "\n",
    "    # get the attachements\n",
    "    response = ss_client.Attachments.list_row_attachments(\n",
    "        posted_sheet_id, row_id, include_all=True\n",
    "    )\n",
    "\n",
    "    if response.data and len(response.data) > 0:\n",
    "        for file in response.data:\n",
    "            filename = f\"{project_id}_{resource_id}_{month_ending_date}.json\"\n",
    "            if file.name == filename:\n",
    "                # if the file name matches what we know the task list is,\n",
    "                attachment = ss_client.Attachments.get_attachment(\n",
    "                    posted_sheet_id, file.id\n",
    "                )\n",
    "                logger.info(f\"Downloading {filename}...\")\n",
    "                ss_client.Attachments.download_attachment(attachment, \"_cache\")\n",
    "\n",
    "                with open(os.path.join(\"_cache\", filename), \"r\") as f:\n",
    "                    json_result = json.load(f)\n",
    "\n",
    "                # need to sum hours, and sort\n",
    "                df = pd.DataFrame(json_result[\"Tasks\"])\n",
    "                completed_hours = df[\"Completed Hours\"].sum()\n",
    "                json_result[\"Tasks\"] = df.sort_values(\n",
    "                    by=\"Task Complete Date\", ascending=True\n",
    "                ).to_dict(\"records\")\n",
    "\n",
    "                # the files _must_ match the schema\n",
    "                valid, msg = validate_json(schema, json_result)\n",
    "                if not valid:\n",
    "                    logger.error(\"validation error %s\", msg)\n",
    "\n",
    "                return json_result, completed_hours\n",
    "\n",
    "\n",
    "# _ = get_task_file(\"1969468997\", \"25815853\", \"2292815046043524\")"
   ]
  },
  {
   "cell_type": "code",
   "execution_count": null,
   "id": "40956a58",
   "metadata": {},
   "outputs": [],
   "source": [
    "def get_client(client_id):\n",
    "\n",
    "    client_dict = {}\n",
    "\n",
    "    row = accounts_df.loc[accounts_df[\"MDC Account ID\"] == client_id].to_dict(\"records\")\n",
    "\n",
    "    # should only be one\n",
    "    if len(row) == 1:\n",
    "\n",
    "        client_dict = {\n",
    "            \"MDC Client ID\": row[0][\"MDC Account ID\"],\n",
    "            \"Client Name\": row[0][\"Account/Client\"],\n",
    "            \"Notes\": \"\",\n",
    "            \"No Bill\": False,\n",
    "            \"Completed Hours\": row[0][\"Completed Hours\"],\n",
    "        }\n",
    "\n",
    "    return client_dict\n",
    "\n",
    "\n",
    "# get_client(\"1882681138\")"
   ]
  },
  {
   "cell_type": "code",
   "execution_count": null,
   "id": "7c589aed",
   "metadata": {},
   "outputs": [],
   "source": [
    "def get_projects(client_id):\n",
    "\n",
    "    with open(os.path.join(\"schema\", \"effort_hours-project.json\"), \"r\") as file:\n",
    "        schema = json.load(file)\n",
    "\n",
    "    projects_dict = []\n",
    "\n",
    "    rows = projects_df.loc[projects_df[\"MDC Account ID\"] == client_id].to_dict(\n",
    "        \"records\"\n",
    "    )\n",
    "\n",
    "    for row in rows:\n",
    "\n",
    "        project_dict = {\n",
    "            \"MDC Project ID\": row[\"MDC Project ID\"],\n",
    "            \"Project Name\": row[\"Project Title\"],\n",
    "            \"Notes\": row[\"Notes\"],\n",
    "            \"Completed Hours\": row[\"Completed Hours\"],\n",
    "            \"Resources\": [],\n",
    "        }\n",
    "\n",
    "        # get the resources by project\n",
    "        resources_dict = resources_df.loc[\n",
    "            (resources_df[\"MDC Project ID\"] == row[\"MDC Project ID\"])\n",
    "        ].to_dict(\"records\")\n",
    "\n",
    "        # go through each resource\n",
    "        for resource in resources_dict:\n",
    "\n",
    "            resource_dict, completed_hours = get_task_file(\n",
    "                row[\"MDC Project ID\"], resource[\"MDC Resource ID\"], resource[\"Row ID\"]\n",
    "            )\n",
    "\n",
    "            resource_dict[\"Completed Hours\"] = completed_hours\n",
    "            project_dict[\"Resources\"].append(resource_dict)\n",
    "\n",
    "        valid, msg = validate_json(schema, project_dict)\n",
    "        if not valid:\n",
    "            logger.error(\"validation error %s\", msg)\n",
    "\n",
    "        projects_dict.append(project_dict)\n",
    "\n",
    "    return projects_dict\n",
    "\n",
    "\n",
    "# get_projects(\"1882681138\")"
   ]
  },
  {
   "cell_type": "markdown",
   "id": "aa331d5c",
   "metadata": {},
   "source": [
    "## build a list of reports"
   ]
  },
  {
   "cell_type": "code",
   "execution_count": null,
   "id": "c6e810a3",
   "metadata": {},
   "outputs": [],
   "source": [
    "def build_report(account_id):\n",
    "\n",
    "    with open(os.path.join(\"schema\", \"effort_hours-report.json\"), \"r\") as file:\n",
    "        schema = json.load(file)\n",
    "\n",
    "    logger.info(f\"Creating report for account {account_id}.\")\n",
    "\n",
    "    # primary report dict\n",
    "    report = {\n",
    "        \"Month-ending Date\": month_ending_date,\n",
    "        \"Report Prepared Date\": prepared_date,\n",
    "        \"Notes\": \"\",\n",
    "        \"Client\": {},\n",
    "    }\n",
    "\n",
    "    client_dict = get_client(account_id)\n",
    "\n",
    "    projects = get_projects(client_dict[\"MDC Client ID\"])\n",
    "    # add the projects\n",
    "    client_dict[\"Projects\"] = projects\n",
    "\n",
    "    # set the client in the report\n",
    "    report[\"Client\"] = client_dict\n",
    "\n",
    "    valid, msg = validate_json(schema, report)\n",
    "    if not valid:\n",
    "        logger.error(\"The report is not valid, %s\", msg)\n",
    "\n",
    "    return report\n",
    "\n",
    "\n",
    "# build_report(\"1882681138\")"
   ]
  },
  {
   "cell_type": "code",
   "execution_count": null,
   "id": "69e7dd8d",
   "metadata": {},
   "outputs": [],
   "source": [
    "account_ids = accounts_df[\"MDC Account ID\"].unique().tolist()\n",
    "account_ids"
   ]
  },
  {
   "cell_type": "code",
   "execution_count": null,
   "id": "ed61c77a",
   "metadata": {},
   "outputs": [],
   "source": [
    "# build them all\n",
    "account_reports = {}\n",
    "for account_id in account_ids:\n",
    "    report = build_report(account_id)\n",
    "    account_reports[account_id] = report"
   ]
  },
  {
   "cell_type": "code",
   "execution_count": null,
   "id": "83243984",
   "metadata": {},
   "outputs": [],
   "source": [
    "def slugged_filename(month_ending_date, client_name):\n",
    "    slugged_client_name = slugify(client_name)\n",
    "    filename = f\"se_hours-{month_ending_date}-{slugged_client_name}.docx\"\n",
    "    return filename"
   ]
  },
  {
   "cell_type": "code",
   "execution_count": null,
   "id": "a4730fa0",
   "metadata": {},
   "outputs": [],
   "source": [
    "# Create a docx template instance from the template Word file\n",
    "template = DocxTemplate(\"client_report_template.docx\")\n",
    "\n",
    "account_keys = account_reports.keys()\n",
    "\n",
    "for account_id in account_keys:\n",
    "\n",
    "    # render the object in memory\n",
    "    template.render({\"v\": account_reports[account_id]})\n",
    "\n",
    "    # save the object to the file system\n",
    "    filename = slugged_filename(month_ending_date, account_reports[account_id]['Client']['Client Name'])\n",
    "    logger.info(\"Creating file {filename}\")\n",
    "    template.save(os.path.join(\"_cache\", filename))"
   ]
  },
  {
   "cell_type": "code",
   "execution_count": null,
   "id": "8c83fc25",
   "metadata": {},
   "outputs": [],
   "source": [
    "client_reports = ss_client.Sheets.get_sheet(client_reports_id)"
   ]
  },
  {
   "cell_type": "code",
   "execution_count": null,
   "id": "6f5d2e62",
   "metadata": {},
   "outputs": [],
   "source": [
    "# break down the cell IDs into a quick lookup box\n",
    "cell_ids = {}\n",
    "for column in client_reports.columns:\n",
    "    my_column = column.to_dict()\n",
    "    cell_ids[my_column[\"title\"]] = my_column[\"id\"]\n",
    "cell_ids"
   ]
  },
  {
   "cell_type": "code",
   "execution_count": null,
   "id": "38afcae6",
   "metadata": {},
   "outputs": [],
   "source": [
    "def append_ss_row(account_reports, account_id):\n",
    "\n",
    "    v = account_reports[account_id]\n",
    "\n",
    "    row = ss_client.models.row.Row()\n",
    "\n",
    "    row.cells.append(\n",
    "        {\"column_id\": cell_ids[\"Client Name\"], \"value\": v[\"Client\"][\"Client Name\"]}\n",
    "    )\n",
    "    row.cells.append(\n",
    "        {\"column_id\": cell_ids[\"Month-end Date\"], \"value\": v[\"Month-ending Date\"]}\n",
    "    )\n",
    "    row.cells.append(\n",
    "        {\n",
    "            \"column_id\": cell_ids[\"Completed Hours\"],\n",
    "            \"value\": v[\"Client\"][\"Completed Hours\"],\n",
    "        }\n",
    "    )\n",
    "    row.cells.append(\n",
    "        {\"column_id\": cell_ids[\"MDC Client ID\"], \"value\": v[\"Client\"][\"MDC Client ID\"]}\n",
    "    )\n",
    "    if v[\"Client\"][\"Notes\"]:\n",
    "        row.cells.append(\n",
    "            {\"column_id\": cell_ids[\"Notes\"], \"value\": v[\"Client\"][\"Notes\"]}\n",
    "        )\n",
    "\n",
    "    row.to_bottom = True\n",
    "\n",
    "    result = ss_client.Sheets.add_rows(client_reports_id, row)\n",
    "\n",
    "    return result.to_dict()[\"data\"][0][\"id\"]"
   ]
  },
  {
   "cell_type": "code",
   "execution_count": null,
   "id": "af36a227",
   "metadata": {},
   "outputs": [],
   "source": [
    "account_keys = account_reports.keys()\n",
    "\n",
    "if post_records:\n",
    "\n",
    "    for account_id in account_keys:\n",
    "\n",
    "        row_id = append_ss_row(account_reports, account_id)\n",
    "        print(row_id)\n",
    "\n",
    "        filename = slugged_filename(month_ending_date, account_reports[account_id]['Client']['Client Name'])\n",
    "\n",
    "        with open(os.path.join(\"_cache\", filename), \"rb\") as f:\n",
    "            ss_client.Attachments.attach_file_to_row(client_reports_id, row_id, f)\n",
    "            \n",
    "else:\n",
    "    \n",
    "    logger.info(\"Not posting records.\")"
   ]
  },
  {
   "cell_type": "code",
   "execution_count": null,
   "id": "c3163bb2",
   "metadata": {},
   "outputs": [],
   "source": []
  }
 ],
 "metadata": {
  "celltoolbar": "Tags",
  "kernelspec": {
   "display_name": "Python 3 (ipykernel)",
   "language": "python",
   "name": "python3"
  },
  "language_info": {
   "codemirror_mode": {
    "name": "ipython",
    "version": 3
   },
   "file_extension": ".py",
   "mimetype": "text/x-python",
   "name": "python",
   "nbconvert_exporter": "python",
   "pygments_lexer": "ipython3",
   "version": "3.10.4"
  }
 },
 "nbformat": 4,
 "nbformat_minor": 5
}
